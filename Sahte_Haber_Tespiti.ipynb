{
 "cells": [
  {
   "cell_type": "code",
   "execution_count": 18,
   "id": "MbPhWF1Jt4wm",
   "metadata": {
    "colab": {
     "base_uri": "https://localhost:8080/"
    },
    "executionInfo": {
     "elapsed": 3566,
     "status": "ok",
     "timestamp": 1672084864479,
     "user": {
      "displayName": "Gokhan Topdanış",
      "userId": "11966826209375432472"
     },
     "user_tz": -180
    },
    "id": "MbPhWF1Jt4wm",
    "outputId": "1ba38ca9-8fd9-4954-c778-34f1df1e6b43"
   },
   "outputs": [
    {
     "name": "stdout",
     "output_type": "stream",
     "text": [
      "Drive already mounted at /content/drive; to attempt to forcibly remount, call drive.mount(\"/content/drive\", force_remount=True).\n"
     ]
    }
   ],
   "source": [
    "from google.colab import drive\n",
    "drive.mount(\"/content/drive\")"
   ]
  },
  {
   "cell_type": "code",
   "execution_count": 19,
   "id": "a8JPK9GMYeg5",
   "metadata": {
    "colab": {
     "base_uri": "https://localhost:8080/"
    },
    "executionInfo": {
     "elapsed": 5695,
     "status": "ok",
     "timestamp": 1672084870156,
     "user": {
      "displayName": "Gokhan Topdanış",
      "userId": "11966826209375432472"
     },
     "user_tz": -180
    },
    "id": "a8JPK9GMYeg5",
    "outputId": "ac27200f-c1f5-40fa-9503-09f1e60d0c54"
   },
   "outputs": [
    {
     "name": "stdout",
     "output_type": "stream",
     "text": [
      "Looking in indexes: https://pypi.org/simple, https://us-python.pkg.dev/colab-wheels/public/simple/\n",
      "Requirement already satisfied: zemberek-python in /usr/local/lib/python3.8/dist-packages (0.2.2)\n",
      "Requirement already satisfied: numpy>=1.19.0 in /usr/local/lib/python3.8/dist-packages (from zemberek-python) (1.21.6)\n",
      "Requirement already satisfied: antlr4-python3-runtime==4.8 in /usr/local/lib/python3.8/dist-packages (from zemberek-python) (4.8)\n",
      "Looking in indexes: https://pypi.org/simple, https://us-python.pkg.dev/colab-wheels/public/simple/\n",
      "Requirement already satisfied: emoji in /usr/local/lib/python3.8/dist-packages (2.2.0)\n"
     ]
    }
   ],
   "source": [
    "!pip install zemberek-python\n",
    "!pip install emoji"
   ]
  },
  {
   "cell_type": "code",
   "execution_count": 20,
   "id": "djCvoZQmRnTw",
   "metadata": {
    "colab": {
     "base_uri": "https://localhost:8080/"
    },
    "executionInfo": {
     "elapsed": 119,
     "status": "ok",
     "timestamp": 1672084870159,
     "user": {
      "displayName": "Gokhan Topdanış",
      "userId": "11966826209375432472"
     },
     "user_tz": -180
    },
    "id": "djCvoZQmRnTw",
    "outputId": "ddc99a6a-a8db-49ad-ac00-c214153ede74"
   },
   "outputs": [
    {
     "name": "stderr",
     "output_type": "stream",
     "text": [
      "[nltk_data] Downloading package punkt to /root/nltk_data...\n",
      "[nltk_data]   Package punkt is already up-to-date!\n",
      "[nltk_data] Downloading package stopwords to /root/nltk_data...\n",
      "[nltk_data]   Package stopwords is already up-to-date!\n"
     ]
    }
   ],
   "source": [
    "import numpy as np\n",
    "import pandas as pd\n",
    "import seaborn as sns\n",
    "import matplotlib.pyplot as plt\n",
    "import re\n",
    "import string\n",
    "import emoji\n",
    "from zemberek import (\n",
    "    TurkishSpellChecker,\n",
    "    TurkishSentenceNormalizer,\n",
    "    TurkishSentenceExtractor,\n",
    "    TurkishMorphology,\n",
    "    TurkishTokenizer\n",
    ")\n",
    "import nltk\n",
    "from nltk.stem.porter import PorterStemmer\n",
    "from nltk.corpus import stopwords\n",
    "from nltk import word_tokenize\n",
    "nltk.download('punkt')\n",
    "nltk.download('stopwords')\n",
    "from nltk.stem.snowball import SnowballStemmer\n",
    "from snowballstemmer import TurkishStemmer\n",
    "ts = TurkishStemmer()\n",
    "ps = PorterStemmer()"
   ]
  },
  {
   "cell_type": "code",
   "execution_count": 21,
   "id": "0ce46b87",
   "metadata": {
    "colab": {
     "base_uri": "https://localhost:8080/",
     "height": 206
    },
    "executionInfo": {
     "elapsed": 113,
     "status": "ok",
     "timestamp": 1672084870163,
     "user": {
      "displayName": "Gokhan Topdanış",
      "userId": "11966826209375432472"
     },
     "user_tz": -180
    },
    "id": "0ce46b87",
    "outputId": "4e3d2a38-0353-472c-864d-768be4ada7e4"
   },
   "outputs": [
    {
     "data": {
      "text/html": [
       "\n",
       "  <div id=\"df-6c9820f8-b466-4959-8c2a-acd1c62820fb\">\n",
       "    <div class=\"colab-df-container\">\n",
       "      <div>\n",
       "<style scoped>\n",
       "    .dataframe tbody tr th:only-of-type {\n",
       "        vertical-align: middle;\n",
       "    }\n",
       "\n",
       "    .dataframe tbody tr th {\n",
       "        vertical-align: top;\n",
       "    }\n",
       "\n",
       "    .dataframe thead th {\n",
       "        text-align: right;\n",
       "    }\n",
       "</style>\n",
       "<table border=\"1\" class=\"dataframe\">\n",
       "  <thead>\n",
       "    <tr style=\"text-align: right;\">\n",
       "      <th></th>\n",
       "      <th>Haberler</th>\n",
       "      <th>Sonuc</th>\n",
       "    </tr>\n",
       "  </thead>\n",
       "  <tbody>\n",
       "    <tr>\n",
       "      <th>0</th>\n",
       "      <td>Kanada-Fas maçında TRT spikerinin devre arasın...</td>\n",
       "      <td>True</td>\n",
       "    </tr>\n",
       "    <tr>\n",
       "      <th>1</th>\n",
       "      <td>Bir öğrencinin eksi netle Cumhuriyet Üniversit...</td>\n",
       "      <td>True</td>\n",
       "    </tr>\n",
       "    <tr>\n",
       "      <th>2</th>\n",
       "      <td>Taksim saldırısıyla ilgili önergenin AK Parti ...</td>\n",
       "      <td>True</td>\n",
       "    </tr>\n",
       "    <tr>\n",
       "      <th>3</th>\n",
       "      <td>Fotoğrafın 19 cm ile dünyanın en uzun burunlu ...</td>\n",
       "      <td>True</td>\n",
       "    </tr>\n",
       "    <tr>\n",
       "      <th>4</th>\n",
       "      <td>Ayın arkasında Satürn’ün belirdiği videonun ge...</td>\n",
       "      <td>True</td>\n",
       "    </tr>\n",
       "  </tbody>\n",
       "</table>\n",
       "</div>\n",
       "      <button class=\"colab-df-convert\" onclick=\"convertToInteractive('df-6c9820f8-b466-4959-8c2a-acd1c62820fb')\"\n",
       "              title=\"Convert this dataframe to an interactive table.\"\n",
       "              style=\"display:none;\">\n",
       "        \n",
       "  <svg xmlns=\"http://www.w3.org/2000/svg\" height=\"24px\"viewBox=\"0 0 24 24\"\n",
       "       width=\"24px\">\n",
       "    <path d=\"M0 0h24v24H0V0z\" fill=\"none\"/>\n",
       "    <path d=\"M18.56 5.44l.94 2.06.94-2.06 2.06-.94-2.06-.94-.94-2.06-.94 2.06-2.06.94zm-11 1L8.5 8.5l.94-2.06 2.06-.94-2.06-.94L8.5 2.5l-.94 2.06-2.06.94zm10 10l.94 2.06.94-2.06 2.06-.94-2.06-.94-.94-2.06-.94 2.06-2.06.94z\"/><path d=\"M17.41 7.96l-1.37-1.37c-.4-.4-.92-.59-1.43-.59-.52 0-1.04.2-1.43.59L10.3 9.45l-7.72 7.72c-.78.78-.78 2.05 0 2.83L4 21.41c.39.39.9.59 1.41.59.51 0 1.02-.2 1.41-.59l7.78-7.78 2.81-2.81c.8-.78.8-2.07 0-2.86zM5.41 20L4 18.59l7.72-7.72 1.47 1.35L5.41 20z\"/>\n",
       "  </svg>\n",
       "      </button>\n",
       "      \n",
       "  <style>\n",
       "    .colab-df-container {\n",
       "      display:flex;\n",
       "      flex-wrap:wrap;\n",
       "      gap: 12px;\n",
       "    }\n",
       "\n",
       "    .colab-df-convert {\n",
       "      background-color: #E8F0FE;\n",
       "      border: none;\n",
       "      border-radius: 50%;\n",
       "      cursor: pointer;\n",
       "      display: none;\n",
       "      fill: #1967D2;\n",
       "      height: 32px;\n",
       "      padding: 0 0 0 0;\n",
       "      width: 32px;\n",
       "    }\n",
       "\n",
       "    .colab-df-convert:hover {\n",
       "      background-color: #E2EBFA;\n",
       "      box-shadow: 0px 1px 2px rgba(60, 64, 67, 0.3), 0px 1px 3px 1px rgba(60, 64, 67, 0.15);\n",
       "      fill: #174EA6;\n",
       "    }\n",
       "\n",
       "    [theme=dark] .colab-df-convert {\n",
       "      background-color: #3B4455;\n",
       "      fill: #D2E3FC;\n",
       "    }\n",
       "\n",
       "    [theme=dark] .colab-df-convert:hover {\n",
       "      background-color: #434B5C;\n",
       "      box-shadow: 0px 1px 3px 1px rgba(0, 0, 0, 0.15);\n",
       "      filter: drop-shadow(0px 1px 2px rgba(0, 0, 0, 0.3));\n",
       "      fill: #FFFFFF;\n",
       "    }\n",
       "  </style>\n",
       "\n",
       "      <script>\n",
       "        const buttonEl =\n",
       "          document.querySelector('#df-6c9820f8-b466-4959-8c2a-acd1c62820fb button.colab-df-convert');\n",
       "        buttonEl.style.display =\n",
       "          google.colab.kernel.accessAllowed ? 'block' : 'none';\n",
       "\n",
       "        async function convertToInteractive(key) {\n",
       "          const element = document.querySelector('#df-6c9820f8-b466-4959-8c2a-acd1c62820fb');\n",
       "          const dataTable =\n",
       "            await google.colab.kernel.invokeFunction('convertToInteractive',\n",
       "                                                     [key], {});\n",
       "          if (!dataTable) return;\n",
       "\n",
       "          const docLinkHtml = 'Like what you see? Visit the ' +\n",
       "            '<a target=\"_blank\" href=https://colab.research.google.com/notebooks/data_table.ipynb>data table notebook</a>'\n",
       "            + ' to learn more about interactive tables.';\n",
       "          element.innerHTML = '';\n",
       "          dataTable['output_type'] = 'display_data';\n",
       "          await google.colab.output.renderOutput(dataTable, element);\n",
       "          const docLink = document.createElement('div');\n",
       "          docLink.innerHTML = docLinkHtml;\n",
       "          element.appendChild(docLink);\n",
       "        }\n",
       "      </script>\n",
       "    </div>\n",
       "  </div>\n",
       "  "
      ],
      "text/plain": [
       "                                            Haberler  Sonuc\n",
       "0  Kanada-Fas maçında TRT spikerinin devre arasın...   True\n",
       "1  Bir öğrencinin eksi netle Cumhuriyet Üniversit...   True\n",
       "2  Taksim saldırısıyla ilgili önergenin AK Parti ...   True\n",
       "3  Fotoğrafın 19 cm ile dünyanın en uzun burunlu ...   True\n",
       "4  Ayın arkasında Satürn’ün belirdiği videonun ge...   True"
      ]
     },
     "execution_count": 21,
     "metadata": {},
     "output_type": "execute_result"
    }
   ],
   "source": [
    "dataset = pd.read_excel(\"drive/MyDrive/tubitakproje/tubitak/dataset.xlsx\")\n",
    "dataset.head()"
   ]
  },
  {
   "cell_type": "code",
   "execution_count": 22,
   "id": "60543cf4",
   "metadata": {
    "colab": {
     "base_uri": "https://localhost:8080/"
    },
    "executionInfo": {
     "elapsed": 113,
     "status": "ok",
     "timestamp": 1672084870168,
     "user": {
      "displayName": "Gokhan Topdanış",
      "userId": "11966826209375432472"
     },
     "user_tz": -180
    },
    "id": "60543cf4",
    "outputId": "eeb98763-4c78-46df-a126-481eb1ddc010"
   },
   "outputs": [
    {
     "data": {
      "text/plain": [
       "(1568, 2)"
      ]
     },
     "execution_count": 22,
     "metadata": {},
     "output_type": "execute_result"
    }
   ],
   "source": [
    "dataset.shape"
   ]
  },
  {
   "cell_type": "code",
   "execution_count": 23,
   "id": "ORRzKkOOP-Zz",
   "metadata": {
    "executionInfo": {
     "elapsed": 121,
     "status": "ok",
     "timestamp": 1672084870184,
     "user": {
      "displayName": "Gokhan Topdanış",
      "userId": "11966826209375432472"
     },
     "user_tz": -180
    },
    "id": "ORRzKkOOP-Zz"
   },
   "outputs": [],
   "source": [
    "f = open(\"drive/MyDrive/tubitakproje/tubitak/turkce-stop-words.txt\", \"r\")\n",
    "turKStopWords=[i[:-1] for i in f]"
   ]
  },
  {
   "cell_type": "code",
   "execution_count": 24,
   "id": "vybDswrHx47y",
   "metadata": {
    "executionInfo": {
     "elapsed": 86647,
     "status": "ok",
     "timestamp": 1672084956712,
     "user": {
      "displayName": "Gokhan Topdanış",
      "userId": "11966826209375432472"
     },
     "user_tz": -180
    },
    "id": "vybDswrHx47y"
   },
   "outputs": [],
   "source": [
    "# Döngüyle veri kümesindeki her bir satır için işlemler gerçekleştiriliyor\n",
    "for i in range(0, dataset.shape[0]):\n",
    "    tokenizer = TurkishTokenizer.DEFAULT\n",
    "    \n",
    "    # İlgili satırdaki metinden noktalama işaretleri kaldırılıyor ve küçük harfe dönüştürülüyor\n",
    "    cumle = \"\".join(v for v in dataset.iloc[i, 0] if v not in string.punctuation).lower()\n",
    "    \n",
    "    # Metinden rakamlar çıkarılıyor\n",
    "    cumle = re.sub(r'\\d', '', cumle)\n",
    "    \n",
    "    # Metinden URL'ler çıkarılıyor\n",
    "    cumle = re.sub('https\\S+', '', cumle)\n",
    "    \n",
    "    # Metinden HTML etiketleri çıkarılıyor\n",
    "    html_pattern = r'<.*?>'\n",
    "    cumle = re.sub(pattern=html_pattern, repl=' ', string=cumle)\n",
    "    \n",
    "    # Metindeki emoji'lerin yerine boşluk karakteri ekleniyor\n",
    "    deneme = emoji.emoji_list(cumle)\n",
    "    for j in range(len(deneme) - 1, -1, -1):\n",
    "        deger = deneme[j]['match_start']\n",
    "        cumle = cumle.replace(cumle[deger], \" \")\n",
    "    \n",
    "    # Metin parçacıklarına ayrılıyor (tokenization)\n",
    "    tokens = tokenizer.tokenize(cumle)\n",
    "    \n",
    "    # Stop kelimeleri ve Türkçe stop kelimeleri listesinde yer almayan kelimeler filtreleniyor\n",
    "    tokens = [w.content for w in tokens if not str(w.content).lower() in set(stopwords.words(\"turkish\"))]\n",
    "    tokens = [i for i in tokens if i not in turKStopWords and len(i) >= 2]\n",
    "    \n",
    "    # Düzenlenen kelimeler birleştirilerek yeni bir cümle oluşturuluyor\n",
    "    duzenlenenCumle = \" \".join(tokens)\n",
    "    \n",
    "    # Veri kümesindeki ilgili satır güncelleniyor\n",
    "    dataset.iloc[i, 0] = duzenlenenCumle\n"
   ]
  },
  {
   "cell_type": "code",
   "execution_count": 25,
   "id": "bcbdd560",
   "metadata": {
    "executionInfo": {
     "elapsed": 68,
     "status": "ok",
     "timestamp": 1672084956716,
     "user": {
      "displayName": "Gokhan Topdanış",
      "userId": "11966826209375432472"
     },
     "user_tz": -180
    },
    "id": "bcbdd560"
   },
   "outputs": [],
   "source": [
    "from sklearn.model_selection import train_test_split\n",
    "x_train,x_test,y_train,y_test= train_test_split(dataset[\"Haberler\"].values.astype('U'),\n",
    "                                                dataset[\"Sonuc\"].values.astype('U'),\n",
    "                                                test_size=0.1,random_state=42) "
   ]
  },
  {
   "cell_type": "code",
   "execution_count": 26,
   "id": "40e91920",
   "metadata": {
    "colab": {
     "base_uri": "https://localhost:8080/"
    },
    "executionInfo": {
     "elapsed": 771,
     "status": "ok",
     "timestamp": 1672084957427,
     "user": {
      "displayName": "Gokhan Topdanış",
      "userId": "11966826209375432472"
     },
     "user_tz": -180
    },
    "id": "40e91920",
    "outputId": "4cce91d2-e3df-4544-aff8-304c27fa8314"
   },
   "outputs": [
    {
     "name": "stdout",
     "output_type": "stream",
     "text": [
      "(1411, 51806)\n"
     ]
    }
   ],
   "source": [
    "from sklearn.feature_extraction.text import CountVectorizer\n",
    "cv = CountVectorizer()\n",
    "x_train_counts=cv.fit_transform(x_train)\n",
    "print(x_train_counts.shape)"
   ]
  },
  {
   "cell_type": "code",
   "execution_count": 27,
   "id": "SsJBUc6naM4D",
   "metadata": {
    "colab": {
     "base_uri": "https://localhost:8080/"
    },
    "executionInfo": {
     "elapsed": 21,
     "status": "ok",
     "timestamp": 1672084957429,
     "user": {
      "displayName": "Gokhan Topdanış",
      "userId": "11966826209375432472"
     },
     "user_tz": -180
    },
    "id": "SsJBUc6naM4D",
    "outputId": "4b0f08e1-c905-497e-81e0-86523a589152"
   },
   "outputs": [
    {
     "name": "stdout",
     "output_type": "stream",
     "text": [
      "(1411, 51806)\n"
     ]
    }
   ],
   "source": [
    "from sklearn.feature_extraction.text import TfidfTransformer\n",
    "tfidf_transformer=TfidfTransformer()\n",
    "x_train_tfidf=tfidf_transformer.fit_transform(x_train_counts).toarray()\n",
    "print(x_train_tfidf.shape)"
   ]
  },
  {
   "cell_type": "code",
   "execution_count": 28,
   "id": "I6MllXiyAx9l",
   "metadata": {
    "executionInfo": {
     "elapsed": 14,
     "status": "ok",
     "timestamp": 1672084957430,
     "user": {
      "displayName": "Gokhan Topdanış",
      "userId": "11966826209375432472"
     },
     "user_tz": -180
    },
    "id": "I6MllXiyAx9l"
   },
   "outputs": [],
   "source": [
    "from sklearn.metrics import confusion_matrix,accuracy_score"
   ]
  },
  {
   "cell_type": "code",
   "execution_count": 29,
   "id": "1907dbc0",
   "metadata": {
    "colab": {
     "base_uri": "https://localhost:8080/"
    },
    "executionInfo": {
     "elapsed": 1876,
     "status": "ok",
     "timestamp": 1672084959293,
     "user": {
      "displayName": "Gokhan Topdanış",
      "userId": "11966826209375432472"
     },
     "user_tz": -180
    },
    "id": "1907dbc0",
    "outputId": "0c08cc62-5bef-4107-8819-87eb90db6930"
   },
   "outputs": [
    {
     "name": "stdout",
     "output_type": "stream",
     "text": [
      "knn skoru skoru:  0.8280254777070064\n"
     ]
    }
   ],
   "source": [
    "from sklearn.neighbors import KNeighborsClassifier\n",
    "knn = KNeighborsClassifier(n_neighbors=7, metric=\"euclidean\") \n",
    "knn.fit(x_train_tfidf,y_train)\n",
    "x_test_counts=cv.transform(x_test)\n",
    "x_test_tfidf=tfidf_transformer.transform(x_test_counts).toarray()\n",
    "y_pred = knn.predict(x_test_tfidf) \n",
    "knncm = confusion_matrix(y_test, y_pred)  \n",
    "knnskor=(accuracy_score(y_test, y_pred))\n",
    "print(\"knn skoru skoru: \",knnskor )"
   ]
  },
  {
   "cell_type": "code",
   "execution_count": 30,
   "id": "56c8cae7",
   "metadata": {
    "colab": {
     "base_uri": "https://localhost:8080/",
     "height": 312
    },
    "executionInfo": {
     "elapsed": 76,
     "status": "ok",
     "timestamp": 1672084959313,
     "user": {
      "displayName": "Gokhan Topdanış",
      "userId": "11966826209375432472"
     },
     "user_tz": -180
    },
    "id": "56c8cae7",
    "outputId": "2c0e3af6-08d6-4b21-cae8-517242a94a43"
   },
   "outputs": [
    {
     "data": {
      "image/png": "[encoded data removed]",
      "text/plain": [
       "<Figure size 432x288 with 1 Axes>"
      ]
     },
     "metadata": {
      "needs_background": "light"
     },
     "output_type": "display_data"
    },
    {
     "name": "stdout",
     "output_type": "stream",
     "text": [
      "0.8280254777070064\n"
     ]
    }
   ],
   "source": [
    "sns.heatmap(knncm,cmap=\"Blues\",cbar=None,annot=True,fmt='.3g')\n",
    "plt.title(\"Matris\") \n",
    "plt.ylabel(\"Gerçek\")\n",
    "plt.xlabel(\"Tahmin\") \n",
    "plt.show()\n",
    "print(\"knn skoru skoru : \",knnskor )"
   ]
  },
  {
   "cell_type": "code",
   "execution_count": 31,
   "id": "d541c91f",
   "metadata": {
    "colab": {
     "base_uri": "https://localhost:8080/"
    },
    "executionInfo": {
     "elapsed": 693,
     "status": "ok",
     "timestamp": 1672084959940,
     "user": {
      "displayName": "Gokhan Topdanış",
      "userId": "11966826209375432472"
     },
     "user_tz": -180
    },
    "id": "d541c91f",
    "outputId": "71f64e69-67d9-4c11-8224-21d1319cc363"
   },
   "outputs": [
    {
     "name": "stdout",
     "output_type": "stream",
     "text": [
      "Gaussian naive bayes skoru:  0.8535031847133758\n"
     ]
    }
   ],
   "source": [
    "from sklearn.naive_bayes import GaussianNB\n",
    "gnbmodel=GaussianNB()\n",
    "gnbmodel.fit(x_train_tfidf,y_train)\n",
    "x_test_counts=cv.transform(x_test)\n",
    "x_test_tfidf=tfidf_transformer.transform(x_test_counts).toarray()\n",
    "y_pred=gnbmodel.predict(x_test_tfidf)\n",
    "gnbskor=accuracy_score(y_test,y_pred)\n",
    "gnbcm=confusion_matrix(y_test,y_pred)\n",
    "print(\"Gaussian naive bayes skoru : \",gnbskor )"
   ]
  },
  {
   "cell_type": "code",
   "execution_count": 32,
   "id": "135d6ded",
   "metadata": {
    "colab": {
     "base_uri": "https://localhost:8080/",
     "height": 312
    },
    "executionInfo": {
     "elapsed": 751,
     "status": "ok",
     "timestamp": 1672084960678,
     "user": {
      "displayName": "Gokhan Topdanış",
      "userId": "11966826209375432472"
     },
     "user_tz": -180
    },
    "id": "135d6ded",
    "outputId": "32e1cbde-81a3-4220-bb23-90183b80a0e0"
   },
   "outputs": [
    {
     "data": {
      "image/png": "[encoded data removed]",
      "text/plain": [
       "<Figure size 432x288 with 1 Axes>"
      ]
     },
     "metadata": {
      "needs_background": "light"
     },
     "output_type": "display_data"
    },
    {
     "name": "stdout",
     "output_type": "stream",
     "text": [
      "0.8535031847133758\n"
     ]
    }
   ],
   "source": [
    "sns.heatmap(gnbcm,cmap=\"Blues\",cbar=None,annot=True,fmt='.3g')\n",
    "plt.title(\"Matris\") \n",
    "plt.ylabel(\"Gerçek\")\n",
    "plt.xlabel(\"Tahmin\") \n",
    "plt.show()\n",
    "print(\"Gaussian naive bayes skoru : \",gnbskor )"
   ]
  },
  {
   "cell_type": "code",
   "execution_count": 33,
   "id": "28369862",
   "metadata": {
    "colab": {
     "base_uri": "https://localhost:8080/"
    },
    "executionInfo": {
     "elapsed": 138428,
     "status": "ok",
     "timestamp": 1672085099074,
     "user": {
      "displayName": "Gokhan Topdanış",
      "userId": "11966826209375432472"
     },
     "user_tz": -180
    },
    "id": "28369862",
    "outputId": "7b51c7d1-a424-47c3-b2d1-f0068d38a270"
   },
   "outputs": [
    {
     "name": "stdout",
     "output_type": "stream",
     "text": [
      "Destek vektör makineleri skor :  0.8789808917197452\n"
     ]
    }
   ],
   "source": [
    "from sklearn.svm import SVC  \n",
    "svc=SVC(kernel=\"rbf\")        \n",
    "svc=svc.fit(x_train_tfidf,y_train)\n",
    "x_test_counts=cv.transform(x_test)\n",
    "x_test_tfidf=tfidf_transformer.transform(x_test_counts).toarray()\n",
    "y_pred=svc.predict(x_test_tfidf)   \n",
    "svcskor=accuracy_score(y_test,y_pred)\n",
    "svccm=confusion_matrix(y_test,y_pred)\n",
    "print(\"Destek vektör makineleri skor : \",svcskor)"
   ]
  },
  {
   "cell_type": "code",
   "execution_count": 34,
   "id": "293e1bd1",
   "metadata": {
    "colab": {
     "base_uri": "https://localhost:8080/",
     "height": 312
    },
    "executionInfo": {
     "elapsed": 684,
     "status": "ok",
     "timestamp": 1672085099725,
     "user": {
      "displayName": "Gokhan Topdanış",
      "userId": "11966826209375432472"
     },
     "user_tz": -180
    },
    "id": "293e1bd1",
    "outputId": "dd8258e7-f3e6-43aa-b599-30e39e798571"
   },
   "outputs": [
    {
     "data": {
      "image/png": "[encoded data removed]",
      "text/plain": [
       "<Figure size 432x288 with 1 Axes>"
      ]
     },
     "metadata": {
      "needs_background": "light"
     },
     "output_type": "display_data"
    },
    {
     "name": "stdout",
     "output_type": "stream",
     "text": [
      "0.8789808917197452\n"
     ]
    }
   ],
   "source": [
    "sns.heatmap(svccm,cmap=\"Blues\",cbar=None,annot=True,fmt='.3g')\n",
    "plt.title(\"Matris\") \n",
    "plt.ylabel(\"Gerçek\")\n",
    "plt.xlabel(\"Tahmin\") \n",
    "plt.show()\n",
    "print(\"Destek vektör makineleri skor : \",svcskor)"
   ]
  },
  {
   "cell_type": "code",
   "execution_count": 35,
   "id": "e2cd61c9",
   "metadata": {
    "colab": {
     "base_uri": "https://localhost:8080/"
    },
    "executionInfo": {
     "elapsed": 4719,
     "status": "ok",
     "timestamp": 1672085104435,
     "user": {
      "displayName": "Gokhan Topdanış",
      "userId": "11966826209375432472"
     },
     "user_tz": -180
    },
    "id": "e2cd61c9",
    "outputId": "ac3645c3-7cba-416f-c467-bdc0c631069e"
   },
   "outputs": [
    {
     "name": "stdout",
     "output_type": "stream",
     "text": [
      "Logistic Resresyon skor :  0.8407643312101911\n"
     ]
    }
   ],
   "source": [
    "from sklearn.linear_model import LogisticRegression\n",
    "lr = LogisticRegression()\n",
    "lr=lr.fit(x_train_tfidf,y_train)\n",
    "x_test_counts=cv.transform(x_test)\n",
    "x_test_tfidf=tfidf_transformer.transform(x_test_counts).toarray()\n",
    "y_pred = lr.predict(x_test_tfidf) \n",
    "lrskor=accuracy_score(y_test,y_pred)\n",
    "lrcm=confusion_matrix(y_test,y_pred)\n",
    "print(\"Logistic Resresyon skor : \",lrskor) "
   ]
  },
  {
   "cell_type": "code",
   "execution_count": 36,
   "id": "2611f7cd",
   "metadata": {
    "colab": {
     "base_uri": "https://localhost:8080/",
     "height": 312
    },
    "executionInfo": {
     "elapsed": 44,
     "status": "ok",
     "timestamp": 1672085104438,
     "user": {
      "displayName": "Gokhan Topdanış",
      "userId": "11966826209375432472"
     },
     "user_tz": -180
    },
    "id": "2611f7cd",
    "outputId": "b20a43fc-c682-46cd-b1ee-807ed95614e5"
   },
   "outputs": [
    {
     "data": {
      "image/png": "[encoded data removed]",
      "text/plain": [
       "<Figure size 432x288 with 1 Axes>"
      ]
     },
     "metadata": {
      "needs_background": "light"
     },
     "output_type": "display_data"
    },
    {
     "name": "stdout",
     "output_type": "stream",
     "text": [
      "0.8407643312101911\n"
     ]
    }
   ],
   "source": [
    "sns.heatmap(lrcm,cmap=\"Blues\",cbar=None,annot=True,fmt='.3g')\n",
    "plt.title(\"Matris\") \n",
    "plt.ylabel(\"Gerçek\")\n",
    "plt.xlabel(\"Tahmin\") \n",
    "plt.show()\n",
    "print(\"Logistic Resresyon skor : \",lrskor) "
   ]
  },
  {
   "cell_type": "code",
   "execution_count": 37,
   "id": "ZlAL_Y2fgFvE",
   "metadata": {
    "colab": {
     "base_uri": "https://localhost:8080/"
    },
    "executionInfo": {
     "elapsed": 490763,
     "status": "ok",
     "timestamp": 1672085595165,
     "user": {
      "displayName": "Gokhan Topdanış",
      "userId": "11966826209375432472"
     },
     "user_tz": -180
    },
    "id": "ZlAL_Y2fgFvE",
    "outputId": "dd83ca52-d5e0-4fd1-e32e-9dfa1575cedc"
   },
   "outputs": [
    {
     "name": "stdout",
     "output_type": "stream",
     "text": [
      "xgboost skor :  0.910828025477707\n"
     ]
    }
   ],
   "source": [
    "from xgboost import XGBClassifier\n",
    "xgb = XGBClassifier(eval_metric=\"rmse\",max_depth=13)\n",
    "xgb.fit(x_train_tfidf,y_train)\n",
    "y_pred=xgb.predict(x_test_tfidf)\n",
    "Xgbcm = confusion_matrix(y_test, y_pred) \n",
    "xgbskor=(accuracy_score(y_test, y_pred))\n",
    "print(\"xgboost skor : \",xgbskor) "
   ]
  },
  {
   "cell_type": "code",
   "execution_count": 38,
   "id": "XgH8mjwJTIcJ",
   "metadata": {
    "colab": {
     "base_uri": "https://localhost:8080/",
     "height": 312
    },
    "executionInfo": {
     "elapsed": 166,
     "status": "ok",
     "timestamp": 1672085595175,
     "user": {
      "displayName": "Gokhan Topdanış",
      "userId": "11966826209375432472"
     },
     "user_tz": -180
    },
    "id": "XgH8mjwJTIcJ",
    "outputId": "1b0569fd-0134-4bc7-b9ed-3d7f3ee56ade"
   },
   "outputs": [
    {
     "data": {
      "image/png": "[encoded data removed]",
      "text/plain": [
       "<Figure size 432x288 with 1 Axes>"
      ]
     },
     "metadata": {
      "needs_background": "light"
     },
     "output_type": "display_data"
    },
    {
     "name": "stdout",
     "output_type": "stream",
     "text": [
      "0.910828025477707\n"
     ]
    }
   ],
   "source": [
    "sns.heatmap(Xgbcm,cmap=\"Blues\",cbar=None,annot=True,fmt='.3g')\n",
    "plt.title(\"Matris\") \n",
    "plt.ylabel(\"Gerçek\")\n",
    "plt.xlabel(\"Tahmin\") \n",
    "plt.show()\n",
    "print(\"xgboost skor : \",xgbskor) "
   ]
  },
  {
   "cell_type": "code",
   "execution_count": 41,
   "id": "s3oPsrRPDyeM",
   "metadata": {
    "colab": {
     "base_uri": "https://localhost:8080/"
    },
    "executionInfo": {
     "elapsed": 96,
     "status": "ok",
     "timestamp": 1672085897626,
     "user": {
      "displayName": "Gokhan Topdanış",
      "userId": "11966826209375432472"
     },
     "user_tz": -180
    },
    "id": "s3oPsrRPDyeM",
    "outputId": "657819c7-e892-4997-ee8a-c832fb17946e"
   },
   "outputs": [
    {
     "name": "stdout",
     "output_type": "stream",
     "text": [
      "MultinomialNB başarısı: 0.8407643312101911\n"
     ]
    }
   ],
   "source": [
    "from sklearn.naive_bayes import MultinomialNB\n",
    "mnb=MultinomialNB()\n",
    "mnb.fit(x_train_tfidf,y_train)\n",
    "x_test_counts=cv.transform(x_test)\n",
    "x_test_tfidf=tfidf_transformer.transform(x_test_counts).toarray()\n",
    "y_pred=mnb.predict(x_test_tfidf)\n",
    "mnbskor=accuracy_score(y_test,y_pred)\n",
    "mnbcm=confusion_matrix(y_test,y_pred)\n",
    "print(\"MultinomialNB başarısı : \",mnbskor)"
   ]
  },
  {
   "cell_type": "code",
   "execution_count": 42,
   "id": "rE58K0kuENYW",
   "metadata": {
    "colab": {
     "base_uri": "https://localhost:8080/",
     "height": 312
    },
    "executionInfo": {
     "elapsed": 608,
     "status": "ok",
     "timestamp": 1672085898148,
     "user": {
      "displayName": "Gokhan Topdanış",
      "userId": "11966826209375432472"
     },
     "user_tz": -180
    },
    "id": "rE58K0kuENYW",
    "outputId": "201d2823-0e86-4df8-cd4e-8468d3d09be5"
   },
   "outputs": [
    {
     "data": {
      "image/png": "[encoded data removed]",
      "text/plain": [
       "<Figure size 432x288 with 1 Axes>"
      ]
     },
     "metadata": {
      "needs_background": "light"
     },
     "output_type": "display_data"
    },
    {
     "name": "stdout",
     "output_type": "stream",
     "text": [
      "0.8407643312101911\n"
     ]
    }
   ],
   "source": [
    "sns.heatmap(mnbcm,cmap=\"Blues\",cbar=None,annot=True,fmt='.3g')\n",
    "plt.title(\"Matris\") \n",
    "plt.ylabel(\"Gerçek\")\n",
    "plt.xlabel(\"Tahmin\") \n",
    "plt.show()\n",
    "print(\"MultinomialNB başarısı : \",mnbskor)"
   ]
  },
  {
   "cell_type": "code",
   "execution_count": 57,
   "id": "PL-N6hSLEPAC",
   "metadata": {
    "colab": {
     "base_uri": "https://localhost:8080/"
    },
    "executionInfo": {
     "elapsed": 1188,
     "status": "ok",
     "timestamp": 1672087590186,
     "user": {
      "displayName": "Gokhan Topdanış",
      "userId": "11966826209375432472"
     },
     "user_tz": -180
    },
    "id": "PL-N6hSLEPAC",
    "outputId": "18b84fef-f9b2-490f-b4bd-673427d91bca"
   },
   "outputs": [
    {
     "name": "stdout",
     "output_type": "stream",
     "text": [
      "BernoulliNB başarısı :  0.8343949044585988\n"
     ]
    }
   ],
   "source": [
    "from sklearn.naive_bayes import BernoulliNB\n",
    "bnb =BernoulliNB()\n",
    "bnb.fit(x_train_tfidf,y_train)\n",
    "x_test_counts=cv.transform(x_test)\n",
    "x_test_tfidf=tfidf_transformer.transform(x_test_counts).toarray()\n",
    "y_pred=bnb.predict(x_test_tfidf)\n",
    "bnbskor=accuracy_score(y_test,y_pred)\n",
    "bnbcm=confusion_matrix(y_test,y_pred)\n",
    "print(\"BernoulliNB başarısı : \",bnbskor)"
   ]
  },
  {
   "cell_type": "code",
   "execution_count": 58,
   "id": "cQJl4JbBE4rj",
   "metadata": {
    "colab": {
     "base_uri": "https://localhost:8080/",
     "height": 312
    },
    "executionInfo": {
     "elapsed": 749,
     "status": "ok",
     "timestamp": 1672087592786,
     "user": {
      "displayName": "Gokhan Topdanış",
      "userId": "11966826209375432472"
     },
     "user_tz": -180
    },
    "id": "cQJl4JbBE4rj",
    "outputId": "4fcad741-b420-4c33-d59d-b0e6dd9d91e7"
   },
   "outputs": [
    {
     "data": {
      "image/png": "[encoded data removed]",
      "text/plain": [
       "<Figure size 432x288 with 1 Axes>"
      ]
     },
     "metadata": {
      "needs_background": "light"
     },
     "output_type": "display_data"
    },
    {
     "name": "stdout",
     "output_type": "stream",
     "text": [
      "BernoulliNB başarısı :  0.8343949044585988\n"
     ]
    }
   ],
   "source": [
    "sns.heatmap(bnbcm,cmap=\"Blues\",cbar=None,annot=True,fmt='.3g')\n",
    "plt.title(\"Matris\") \n",
    "plt.ylabel(\"Gerçek\")\n",
    "plt.xlabel(\"Tahmin\")  \n",
    "plt.show()\n",
    "print(\"BernoulliNB başarısı : \",bnbskor)"
   ]
  }
 ],
 "metadata": {
  "accelerator": "GPU",
  "colab": {
   "provenance": []
  },
  "gpuClass": "standard",
  "kernelspec": {
   "display_name": "Python 3 (ipykernel)",
   "language": "python",
   "name": "python3"
  },
  "language_info": {
   "codemirror_mode": {
    "name": "ipython",
    "version": 3
   },
   "file_extension": ".py",
   "mimetype": "text/x-python",
   "name": "python",
   "nbconvert_exporter": "python",
   "pygments_lexer": "ipython3",
   "version": "3.10.9"
  }
 },
 "nbformat": 4,
 "nbformat_minor": 5
}
